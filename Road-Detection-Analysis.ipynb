{
 "cells": [
  {
   "cell_type": "markdown",
   "id": "4d42d861",
   "metadata": {},
   "source": [
    "# Detect obstacles in roads from accelerometer data"
   ]
  },
  {
   "cell_type": "code",
   "execution_count": 1,
   "id": "41fdc310",
   "metadata": {},
   "outputs": [],
   "source": [
    "#Import Libraries\n",
    "import pandas as pd\n",
    "import numpy as np \n",
    "import folium\n",
    "import geopy\n",
    "from sklearn.cluster import DBSCAN\n",
    "from sklearn.preprocessing import LabelEncoder\n",
    "from sklearn.cluster import KMeans\n",
    "import matplotlib.pyplot as plt\n",
    "from sklearn.preprocessing import StandardScaler"
   ]
  },
  {
   "cell_type": "markdown",
   "id": "e85b6284",
   "metadata": {},
   "source": [
    "Workflow:\n",
    "1. Data Wrangling & Cleaning\n",
    "2. Map Creation\n",
    "3. Feature Generation\n",
    "4. Clustering"
   ]
  },
  {
   "cell_type": "markdown",
   "id": "3d4af916",
   "metadata": {},
   "source": [
    "## Data Wrangling & Cleaning"
   ]
  },
  {
   "cell_type": "code",
   "execution_count": 2,
   "id": "ecbaddd9",
   "metadata": {},
   "outputs": [],
   "source": [
    "df = pd.read_csv(\"Data/acceleration_data_in_bilbao_SP.csv\", parse_dates=['time'], infer_datetime_format=True)"
   ]
  },
  {
   "cell_type": "code",
   "execution_count": 3,
   "id": "f3308fef",
   "metadata": {},
   "outputs": [
    {
     "data": {
      "text/plain": [
       "(262443, 13)"
      ]
     },
     "execution_count": 3,
     "metadata": {},
     "output_type": "execute_result"
    }
   ],
   "source": [
    "df.shape"
   ]
  },
  {
   "cell_type": "code",
   "execution_count": 4,
   "id": "8222b24e",
   "metadata": {},
   "outputs": [],
   "source": [
    "df = df.sort_values(\"time\")"
   ]
  },
  {
   "cell_type": "code",
   "execution_count": 5,
   "id": "71a45296",
   "metadata": {},
   "outputs": [],
   "source": [
    "df[\"Moving_Average_Speed\"] = df.speed.rolling(50).mean()"
   ]
  },
  {
   "cell_type": "code",
   "execution_count": 6,
   "id": "b45d5818",
   "metadata": {},
   "outputs": [],
   "source": [
    "df[\"Average_Acc\"] = (df['acc_x']+df['acc_y']+df['acc_z'])/3"
   ]
  },
  {
   "cell_type": "markdown",
   "id": "d5c1c16d",
   "metadata": {},
   "source": [
    "## Map Creation"
   ]
  },
  {
   "cell_type": "code",
   "execution_count": 7,
   "id": "99e584a4",
   "metadata": {},
   "outputs": [],
   "source": [
    "#Create coordinations and speed lists for mapping\n",
    "coords = df[[\"latitude\",\"longitude\"]].values.tolist()\n",
    "speed = df[\"Moving_Average_Speed\"].values.tolist()"
   ]
  },
  {
   "cell_type": "code",
   "execution_count": 8,
   "id": "b1e8c477",
   "metadata": {},
   "outputs": [],
   "source": [
    "coords_map = coords[0::250]\n",
    "speed_map = speed[0::250]"
   ]
  },
  {
   "cell_type": "code",
   "execution_count": 9,
   "id": "32a1c7ab",
   "metadata": {},
   "outputs": [],
   "source": [
    "# Create starting point for map initialization\n",
    "starting_point = coords[0]\n",
    "end_point = coords[-1]"
   ]
  },
  {
   "cell_type": "code",
   "execution_count": 10,
   "id": "7f440e06",
   "metadata": {},
   "outputs": [],
   "source": [
    "# Create the map in Folium showing intervals of location and average speed\n",
    "\n",
    "map_object = folium.Map(location=starting_point, zoom_start=12)\n",
    "\n",
    "# Add markers for each set of coordinates\n",
    "for coord in coords_map:\n",
    "    folium.Marker(location=coord).add_to(map_object)\n",
    "\n",
    "# Create a line connecting the markers\n",
    "for i in range(len(coords_map) - 1):\n",
    "    folium.PolyLine(coords_map, color='red', weight=speed_map[i]/20, opacity=1).add_to(map_object)\n",
    "    \n",
    "# Display the map\n",
    "map_object.save('map.html')"
   ]
  },
  {
   "cell_type": "markdown",
   "id": "77e2e43e",
   "metadata": {},
   "source": [
    "## Feature Generation"
   ]
  },
  {
   "cell_type": "code",
   "execution_count": 11,
   "id": "5ca9eb38",
   "metadata": {},
   "outputs": [],
   "source": [
    "# Create feature to store the change in heading as the vehicle travels\n",
    "df[\"Change_Heading\"] = (df['heading'] - df['heading'].shift(50)) / df['heading'].shift(50) * 100\n",
    "\n",
    "# Fill the NaN values in the 'Change_Heading' column with 0\n",
    "df['Change_Heading'].fillna(0, inplace=True)\n",
    "\n",
    "#Cap the change to prevent anomalies in clustering analysis\n",
    "df['Change_Heading'] = np.where(df['Change_Heading'] > 500, 500, df['Change_Heading'])\n",
    "\n",
    "df['Change_Heading'] = abs(df['Change_Heading'])\n"
   ]
  },
  {
   "cell_type": "code",
   "execution_count": 12,
   "id": "f9cddab2",
   "metadata": {},
   "outputs": [],
   "source": [
    "# Create feature to store the change in speed as the vehicle travels\n",
    "df[\"Change_Speed\"] = (df['speed'] - df['speed'].shift(100)) / df['speed'].shift(100) * 100\n",
    "\n",
    "# Fill the NaN values in the 'Change_Speed' column with 0\n",
    "df['Change_Speed'].fillna(0, inplace=True)\n",
    "\n",
    "#Cap the change to prevent anomalies in clustering analysis\n",
    "df['Change_Speed'] = np.where(df['Change_Speed'] > 1000, 1000, df['Change_Heading'])"
   ]
  },
  {
   "cell_type": "code",
   "execution_count": 13,
   "id": "35d490e1",
   "metadata": {},
   "outputs": [],
   "source": [
    "# Create feature to store the change in acceleration as the vehicle travels\n",
    "df[\"Change_Acc\"] = (df['Average_Acc'] - df['Average_Acc'].shift(100)) / df['Average_Acc'].shift(100) * 100\n",
    "\n",
    "# Fill the NaN values in the 'Change_Acc' column with 0\n",
    "df['Change_Acc'].fillna(0, inplace=True)\n"
   ]
  },
  {
   "cell_type": "code",
   "execution_count": 14,
   "id": "81944b96",
   "metadata": {},
   "outputs": [],
   "source": [
    "# Create feature to show how close the vehicle is to cross the speed limit\n",
    "df['Percent_Speed_Limit'] = df['speed']/df['road_speed_limit']"
   ]
  },
  {
   "cell_type": "markdown",
   "id": "6636be10",
   "metadata": {},
   "source": [
    "## Clustering"
   ]
  },
  {
   "cell_type": "code",
   "execution_count": 15,
   "id": "48606b12",
   "metadata": {},
   "outputs": [],
   "source": [
    "# Create a dataframe with the required values\n",
    "df_clustering = df[['time','speed', 'heading', 'road_speed_limit', 'acc_x', 'acc_y', 'acc_z', 'road_type', 'Change_Heading', 'Change_Speed', 'Change_Acc', 'Percent_Speed_Limit']]\n",
    "df_clustering = df_clustering.set_index('time')"
   ]
  },
  {
   "cell_type": "code",
   "execution_count": 16,
   "id": "0acd9735",
   "metadata": {},
   "outputs": [
    {
     "data": {
      "text/plain": [
       "array(['LOCAL_ROAD_OF_MAJOR_IMPORTANCE', 'CONNECTING_ROAD', 'MAJOR_ROAD',\n",
       "       'SECONDARY_ROAD', 'MOTORWAY', 'DESTINATION_ROAD',\n",
       "       'MAJOR_ROAD_OF_HIGH_IMPORTANCE'], dtype=object)"
      ]
     },
     "execution_count": 16,
     "metadata": {},
     "output_type": "execute_result"
    }
   ],
   "source": [
    "df_clustering.road_type.unique()"
   ]
  },
  {
   "cell_type": "code",
   "execution_count": 17,
   "id": "2ab15937",
   "metadata": {},
   "outputs": [],
   "source": [
    "# Map road types as algorithm used only accepts numeric values\n",
    "map_dict = {'LOCAL_ROAD_OF_MAJOR_IMPORTANCE': 0, 'CONNECTING_ROAD': 1, 'MAJOR_ROAD': 2, 'SECONDARY_ROAD': 3,\n",
    "           'MOTORWAY':4, 'DESTINATION_ROAD':5, 'MAJOR_ROAD_OF_HIGH_IMPORTANCE':6}\n",
    "\n",
    "# Apply the map method to column 'road_type'\n",
    "df_clustering['road_type'] = df_clustering['road_type'].map(map_dict)"
   ]
  },
  {
   "cell_type": "code",
   "execution_count": 18,
   "id": "c556bb60",
   "metadata": {},
   "outputs": [],
   "source": [
    "# Resample the data into one second intervals to make analysis simpler\n",
    "df_clustering = df_clustering.resample('1S').mean()"
   ]
  },
  {
   "cell_type": "code",
   "execution_count": 19,
   "id": "07753fd0",
   "metadata": {},
   "outputs": [],
   "source": [
    "# Get rid of anomalies\n",
    "df_clustering = df_clustering.replace([np.inf, -np.inf], np.nan)\n",
    "df_clustering = df_clustering.dropna(axis=0)"
   ]
  },
  {
   "cell_type": "code",
   "execution_count": 20,
   "id": "8eedb812",
   "metadata": {},
   "outputs": [],
   "source": [
    "df_clustering['road_type'] = round(df_clustering['road_type'],0)"
   ]
  },
  {
   "cell_type": "code",
   "execution_count": 21,
   "id": "21f6bb5a",
   "metadata": {},
   "outputs": [
    {
     "data": {
      "text/html": [
       "<div>\n",
       "<style scoped>\n",
       "    .dataframe tbody tr th:only-of-type {\n",
       "        vertical-align: middle;\n",
       "    }\n",
       "\n",
       "    .dataframe tbody tr th {\n",
       "        vertical-align: top;\n",
       "    }\n",
       "\n",
       "    .dataframe thead th {\n",
       "        text-align: right;\n",
       "    }\n",
       "</style>\n",
       "<table border=\"1\" class=\"dataframe\">\n",
       "  <thead>\n",
       "    <tr style=\"text-align: right;\">\n",
       "      <th></th>\n",
       "      <th>speed</th>\n",
       "      <th>heading</th>\n",
       "      <th>road_speed_limit</th>\n",
       "      <th>acc_x</th>\n",
       "      <th>acc_y</th>\n",
       "      <th>acc_z</th>\n",
       "      <th>road_type</th>\n",
       "      <th>Change_Heading</th>\n",
       "      <th>Change_Speed</th>\n",
       "      <th>Change_Acc</th>\n",
       "      <th>Percent_Speed_Limit</th>\n",
       "    </tr>\n",
       "    <tr>\n",
       "      <th>time</th>\n",
       "      <th></th>\n",
       "      <th></th>\n",
       "      <th></th>\n",
       "      <th></th>\n",
       "      <th></th>\n",
       "      <th></th>\n",
       "      <th></th>\n",
       "      <th></th>\n",
       "      <th></th>\n",
       "      <th></th>\n",
       "      <th></th>\n",
       "    </tr>\n",
       "  </thead>\n",
       "  <tbody>\n",
       "    <tr>\n",
       "      <th>2022-09-29 03:46:06</th>\n",
       "      <td>0.0</td>\n",
       "      <td>318.0</td>\n",
       "      <td>40.0</td>\n",
       "      <td>-0.029667</td>\n",
       "      <td>-0.028833</td>\n",
       "      <td>1.010167</td>\n",
       "      <td>0.0</td>\n",
       "      <td>0.0</td>\n",
       "      <td>0.0</td>\n",
       "      <td>0.0</td>\n",
       "      <td>0.000</td>\n",
       "    </tr>\n",
       "    <tr>\n",
       "      <th>2022-09-29 03:46:07</th>\n",
       "      <td>0.2</td>\n",
       "      <td>318.0</td>\n",
       "      <td>40.0</td>\n",
       "      <td>-0.029600</td>\n",
       "      <td>-0.028300</td>\n",
       "      <td>1.009700</td>\n",
       "      <td>0.0</td>\n",
       "      <td>0.0</td>\n",
       "      <td>0.0</td>\n",
       "      <td>0.0</td>\n",
       "      <td>0.005</td>\n",
       "    </tr>\n",
       "    <tr>\n",
       "      <th>2022-09-29 03:46:08</th>\n",
       "      <td>0.0</td>\n",
       "      <td>318.0</td>\n",
       "      <td>40.0</td>\n",
       "      <td>-0.030600</td>\n",
       "      <td>-0.027900</td>\n",
       "      <td>1.008900</td>\n",
       "      <td>0.0</td>\n",
       "      <td>0.0</td>\n",
       "      <td>0.0</td>\n",
       "      <td>0.0</td>\n",
       "      <td>0.000</td>\n",
       "    </tr>\n",
       "    <tr>\n",
       "      <th>2022-09-29 03:46:09</th>\n",
       "      <td>0.0</td>\n",
       "      <td>318.0</td>\n",
       "      <td>40.0</td>\n",
       "      <td>-0.030500</td>\n",
       "      <td>-0.027100</td>\n",
       "      <td>1.008900</td>\n",
       "      <td>0.0</td>\n",
       "      <td>0.0</td>\n",
       "      <td>0.0</td>\n",
       "      <td>0.0</td>\n",
       "      <td>0.000</td>\n",
       "    </tr>\n",
       "    <tr>\n",
       "      <th>2022-09-29 03:46:10</th>\n",
       "      <td>0.0</td>\n",
       "      <td>318.0</td>\n",
       "      <td>40.0</td>\n",
       "      <td>-0.031800</td>\n",
       "      <td>-0.027400</td>\n",
       "      <td>1.010900</td>\n",
       "      <td>0.0</td>\n",
       "      <td>0.0</td>\n",
       "      <td>0.0</td>\n",
       "      <td>0.0</td>\n",
       "      <td>0.000</td>\n",
       "    </tr>\n",
       "  </tbody>\n",
       "</table>\n",
       "</div>"
      ],
      "text/plain": [
       "                     speed  heading  road_speed_limit     acc_x     acc_y  \\\n",
       "time                                                                        \n",
       "2022-09-29 03:46:06    0.0    318.0              40.0 -0.029667 -0.028833   \n",
       "2022-09-29 03:46:07    0.2    318.0              40.0 -0.029600 -0.028300   \n",
       "2022-09-29 03:46:08    0.0    318.0              40.0 -0.030600 -0.027900   \n",
       "2022-09-29 03:46:09    0.0    318.0              40.0 -0.030500 -0.027100   \n",
       "2022-09-29 03:46:10    0.0    318.0              40.0 -0.031800 -0.027400   \n",
       "\n",
       "                        acc_z  road_type  Change_Heading  Change_Speed  \\\n",
       "time                                                                     \n",
       "2022-09-29 03:46:06  1.010167        0.0             0.0           0.0   \n",
       "2022-09-29 03:46:07  1.009700        0.0             0.0           0.0   \n",
       "2022-09-29 03:46:08  1.008900        0.0             0.0           0.0   \n",
       "2022-09-29 03:46:09  1.008900        0.0             0.0           0.0   \n",
       "2022-09-29 03:46:10  1.010900        0.0             0.0           0.0   \n",
       "\n",
       "                     Change_Acc  Percent_Speed_Limit  \n",
       "time                                                  \n",
       "2022-09-29 03:46:06         0.0                0.000  \n",
       "2022-09-29 03:46:07         0.0                0.005  \n",
       "2022-09-29 03:46:08         0.0                0.000  \n",
       "2022-09-29 03:46:09         0.0                0.000  \n",
       "2022-09-29 03:46:10         0.0                0.000  "
      ]
     },
     "execution_count": 21,
     "metadata": {},
     "output_type": "execute_result"
    }
   ],
   "source": [
    "df_clustering.head()"
   ]
  },
  {
   "cell_type": "code",
   "execution_count": 22,
   "id": "96f7f50b",
   "metadata": {},
   "outputs": [],
   "source": [
    "# Scaling the data as K means requires it\n",
    "scaler = StandardScaler()\n",
    "scaled_data = scaler.fit_transform(df_clustering)"
   ]
  },
  {
   "cell_type": "code",
   "execution_count": 23,
   "id": "e76abf26",
   "metadata": {},
   "outputs": [],
   "source": [
    "# Fit KMeans model to data\n",
    "kmeans = KMeans(n_clusters=3)\n",
    "kmeans.fit(scaled_data)\n",
    "\n",
    "# Predict the cluster for each data point\n",
    "labels = kmeans.predict(scaled_data)"
   ]
  },
  {
   "cell_type": "code",
   "execution_count": 24,
   "id": "6ace5b62",
   "metadata": {},
   "outputs": [],
   "source": [
    "# Assign the labels to rows\n",
    "df_clustering['Cluster'] = labels"
   ]
  },
  {
   "cell_type": "markdown",
   "id": "455c14ee",
   "metadata": {},
   "source": [
    "## Clustering Result Analysis"
   ]
  },
  {
   "cell_type": "code",
   "execution_count": 25,
   "id": "2875c0c6",
   "metadata": {},
   "outputs": [
    {
     "name": "stdout",
     "output_type": "stream",
     "text": [
      "Cluster 0 Sample Size  22616\n",
      "Cluster 1 Sample Size  586\n",
      "Cluster 2 Sample Size  2923\n"
     ]
    }
   ],
   "source": [
    "# Distribution of samples between clustering\n",
    "for cluster in [0,1,2]:\n",
    "    print(f'Cluster {cluster} Sample Size ', len(df_clustering[df_clustering.Cluster==cluster]))"
   ]
  },
  {
   "cell_type": "code",
   "execution_count": 30,
   "id": "a73c3ad1",
   "metadata": {},
   "outputs": [
    {
     "name": "stdout",
     "output_type": "stream",
     "text": [
      "Cluster 0 acc_x value  -0.005597126539344595\n",
      "Cluster 0 acc_y value  -0.0024376777909774425\n",
      "Cluster 0 acc_z value  1.012339235695684\n",
      "--------------------------------------------------\n",
      "Cluster 1 acc_x value  -0.004052311113232607\n",
      "Cluster 1 acc_y value  -0.000652290826352259\n",
      "Cluster 1 acc_z value  1.012165244795023\n",
      "--------------------------------------------------\n",
      "Cluster 2 acc_x value  -0.005894265439202139\n",
      "Cluster 2 acc_y value  0.001226734116607532\n",
      "Cluster 2 acc_z value  1.0110554799687748\n",
      "--------------------------------------------------\n"
     ]
    }
   ],
   "source": [
    "# Average acceleration for each cluster\n",
    "for cluster in [0,1,2]:\n",
    "    print(f'Cluster {cluster} acc_x value ', df_clustering[df_clustering.Cluster==cluster]['acc_x'].mean())\n",
    "    print(f'Cluster {cluster} acc_y value ', df_clustering[df_clustering.Cluster==cluster]['acc_y'].mean())\n",
    "    print(f'Cluster {cluster} acc_z value ', df_clustering[df_clustering.Cluster==cluster]['acc_z'].mean())\n",
    "    print('-'*50)"
   ]
  },
  {
   "cell_type": "code",
   "execution_count": 26,
   "id": "0a8129dc",
   "metadata": {},
   "outputs": [
    {
     "name": "stdout",
     "output_type": "stream",
     "text": [
      "--------------------------------------------------\n",
      "Cluster 0 speed 86.97958524938063\n",
      "Cluster 1 speed 64.11860068259388\n",
      "Cluster 2 speed 37.80283954840907\n",
      "--------------------------------------------------\n",
      "--------------------------------------------------\n",
      "Cluster 0 Change_Heading 8.747487663885888\n",
      "Cluster 1 Change_Heading 370.9365374452143\n",
      "Cluster 2 Change_Heading 16.331549082081853\n",
      "--------------------------------------------------\n",
      "--------------------------------------------------\n",
      "Cluster 0 Change_Acc 0.3228240039083801\n",
      "Cluster 1 Change_Acc 1.0408788863851386\n",
      "Cluster 2 Change_Acc 2.532738818808002\n",
      "--------------------------------------------------\n"
     ]
    }
   ],
   "source": [
    "# Average speed, change in heading and change in acceleration for each cluster\n",
    "for var in ['speed', 'Change_Heading', 'Change_Acc']:\n",
    "    print('-'*50)\n",
    "    print(f'Cluster 0 {var}', df_clustering[df_clustering.Cluster==0][var].mean())\n",
    "    print(f'Cluster 1 {var}', df_clustering[df_clustering.Cluster==1][var].mean())\n",
    "    print(f'Cluster 2 {var}', df_clustering[df_clustering.Cluster==2][var].mean())\n",
    "    print('-'*50)"
   ]
  },
  {
   "cell_type": "code",
   "execution_count": 27,
   "id": "6fcd7ef9",
   "metadata": {},
   "outputs": [],
   "source": [
    "# Reverse mapping to make results readable\n",
    "map_dict_reversed = {v: k for k, v in map_dict.items()}\n",
    "df_clustering['road_type'] = df_clustering['road_type'].map(map_dict_reversed)"
   ]
  },
  {
   "cell_type": "code",
   "execution_count": 28,
   "id": "2f3a71fe",
   "metadata": {},
   "outputs": [
    {
     "name": "stdout",
     "output_type": "stream",
     "text": [
      "Cluster 0 Road Types \n",
      " MOTORWAY                         0.802175\n",
      "MAJOR_ROAD_OF_HIGH_IMPORTANCE    0.186019\n",
      "SECONDARY_ROAD                   0.010081\n",
      "DESTINATION_ROAD                 0.001282\n",
      "CONNECTING_ROAD                  0.000442\n",
      "Name: road_type, dtype: float64\n",
      "--------------------------------------------------\n",
      "Cluster 1 Road Types \n",
      " MOTORWAY                          0.631399\n",
      "SECONDARY_ROAD                    0.160410\n",
      "MAJOR_ROAD                        0.080205\n",
      "MAJOR_ROAD_OF_HIGH_IMPORTANCE     0.066553\n",
      "LOCAL_ROAD_OF_MAJOR_IMPORTANCE    0.059727\n",
      "CONNECTING_ROAD                   0.001706\n",
      "Name: road_type, dtype: float64\n",
      "--------------------------------------------------\n",
      "Cluster 2 Road Types \n",
      " SECONDARY_ROAD                    0.523435\n",
      "MAJOR_ROAD                        0.153951\n",
      "MOTORWAY                          0.126924\n",
      "LOCAL_ROAD_OF_MAJOR_IMPORTANCE    0.097160\n",
      "MAJOR_ROAD_OF_HIGH_IMPORTANCE     0.060212\n",
      "CONNECTING_ROAD                   0.034896\n",
      "DESTINATION_ROAD                  0.003421\n",
      "Name: road_type, dtype: float64\n",
      "--------------------------------------------------\n"
     ]
    }
   ],
   "source": [
    "# Road type distribution for each cluster\n",
    "for cluster in [0,1,2]:\n",
    "    print(f'Cluster {cluster} Road Types \\n', df_clustering[df_clustering.Cluster==cluster]['road_type'].value_counts(normalize=True))\n",
    "    print('-'*50)"
   ]
  },
  {
   "cell_type": "code",
   "execution_count": null,
   "id": "ea4548f4",
   "metadata": {},
   "outputs": [],
   "source": []
  }
 ],
 "metadata": {
  "kernelspec": {
   "display_name": "Python 3 (ipykernel)",
   "language": "python",
   "name": "python3"
  },
  "language_info": {
   "codemirror_mode": {
    "name": "ipython",
    "version": 3
   },
   "file_extension": ".py",
   "mimetype": "text/x-python",
   "name": "python",
   "nbconvert_exporter": "python",
   "pygments_lexer": "ipython3",
   "version": "3.9.7"
  }
 },
 "nbformat": 4,
 "nbformat_minor": 5
}
